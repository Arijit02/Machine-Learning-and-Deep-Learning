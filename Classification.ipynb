{
  "nbformat": 4,
  "nbformat_minor": 0,
  "metadata": {
    "colab": {
      "name": "Classification.ipynb",
      "provenance": [],
      "collapsed_sections": [],
      "authorship_tag": "ABX9TyN7BLUGLVOoSB++/b1NvYfU",
      "include_colab_link": true
    },
    "kernelspec": {
      "name": "python3",
      "display_name": "Python 3"
    }
  },
  "cells": [
    {
      "cell_type": "markdown",
      "metadata": {
        "id": "view-in-github",
        "colab_type": "text"
      },
      "source": [
        "<a href=\"https://colab.research.google.com/github/Arijit02/Sphinx/blob/master/Classification.ipynb\" target=\"_parent\"><img src=\"https://colab.research.google.com/assets/colab-badge.svg\" alt=\"Open In Colab\"/></a>"
      ]
    },
    {
      "cell_type": "code",
      "metadata": {
        "id": "Y0vI3wCOBPrg",
        "colab_type": "code",
        "colab": {}
      },
      "source": [
        "%tensorflow_version 2.x"
      ],
      "execution_count": 0,
      "outputs": []
    },
    {
      "cell_type": "code",
      "metadata": {
        "id": "T7txiO4uBoE8",
        "colab_type": "code",
        "colab": {}
      },
      "source": [
        "import tensorflow as tf\n",
        "import pandas as pd"
      ],
      "execution_count": 0,
      "outputs": []
    },
    {
      "cell_type": "code",
      "metadata": {
        "id": "_hmEI2aMBxX6",
        "colab_type": "code",
        "colab": {}
      },
      "source": [
        "CSV_COLUMN_NAMES = ['SepalLength','SepalWidth','PetalLength','PetalWidth','Species']\n",
        "SPECIES = ['Setosa','Versicolor','Virginica']"
      ],
      "execution_count": 0,
      "outputs": []
    },
    {
      "cell_type": "code",
      "metadata": {
        "id": "i-Ud82UdDtdk",
        "colab_type": "code",
        "colab": {}
      },
      "source": [
        "train_path = tf.keras.utils.get_file(\n",
        "    \"iris_training.csv\",\"https://storage.googleapis.com/download.tensorflow.org/data/iris_training.csv\") \n",
        "test_path = tf.keras.utils.get_file(\n",
        "    \"iris_test.csv\",\"https://storage.googleapis.com/download.tensorflow.org/data/iris_test.csv\") "
      ],
      "execution_count": 0,
      "outputs": []
    },
    {
      "cell_type": "code",
      "metadata": {
        "id": "26RePEl9FEVB",
        "colab_type": "code",
        "colab": {}
      },
      "source": [
        "train = pd.read_csv(train_path,names=CSV_COLUMN_NAMES,header=0)\n",
        "test = pd.read_csv(test_path,names=CSV_COLUMN_NAMES,header=0)"
      ],
      "execution_count": 0,
      "outputs": []
    },
    {
      "cell_type": "code",
      "metadata": {
        "id": "Gr4NLdIPJRh-",
        "colab_type": "code",
        "colab": {}
      },
      "source": [
        "train_y = train.pop('Species')\n",
        "test_y = test.pop('Species')"
      ],
      "execution_count": 0,
      "outputs": []
    },
    {
      "cell_type": "code",
      "metadata": {
        "id": "NjLPGExVIVEB",
        "colab_type": "code",
        "colab": {}
      },
      "source": [
        "train.head()"
      ],
      "execution_count": 0,
      "outputs": []
    },
    {
      "cell_type": "code",
      "metadata": {
        "id": "chpEA5VrLKh8",
        "colab_type": "code",
        "colab": {}
      },
      "source": [
        "def input_fn(features,label,training=True,batch_size=256):\n",
        "  dataset = tf.data.Dataset.from_tensor_slices((dict(features),label))\n",
        "  if training:\n",
        "    dataset = dataset.shuffle(1000).repeat()\n",
        "  return dataset.batch(batch_size)"
      ],
      "execution_count": 0,
      "outputs": []
    },
    {
      "cell_type": "code",
      "metadata": {
        "id": "a91OK73PMVwI",
        "colab_type": "code",
        "colab": {}
      },
      "source": [
        "my_feature_columns = []\n",
        "for key in train.keys():\n",
        "  my_feature_columns.append(tf.feature_column.numeric_column(key=key))"
      ],
      "execution_count": 0,
      "outputs": []
    },
    {
      "cell_type": "code",
      "metadata": {
        "id": "VtW_a45-O01j",
        "colab_type": "code",
        "outputId": "18f2f2ad-310a-4916-ec54-7a9472f79c25",
        "colab": {
          "base_uri": "https://localhost:8080/",
          "height": 193
        }
      },
      "source": [
        "classifier = tf.estimator.DNNClassifier(\n",
        "    feature_columns = my_feature_columns, hidden_units=[30,10], n_classes = 3\n",
        ")"
      ],
      "execution_count": 0,
      "outputs": [
        {
          "output_type": "stream",
          "text": [
            "INFO:tensorflow:Using default config.\n",
            "WARNING:tensorflow:Using temporary folder as model directory: /tmp/tmp7s2t3n8m\n",
            "INFO:tensorflow:Using config: {'_model_dir': '/tmp/tmp7s2t3n8m', '_tf_random_seed': None, '_save_summary_steps': 100, '_save_checkpoints_steps': None, '_save_checkpoints_secs': 600, '_session_config': allow_soft_placement: true\n",
            "graph_options {\n",
            "  rewrite_options {\n",
            "    meta_optimizer_iterations: ONE\n",
            "  }\n",
            "}\n",
            ", '_keep_checkpoint_max': 5, '_keep_checkpoint_every_n_hours': 10000, '_log_step_count_steps': 100, '_train_distribute': None, '_device_fn': None, '_protocol': None, '_eval_distribute': None, '_experimental_distribute': None, '_experimental_max_worker_delay_secs': None, '_session_creation_timeout_secs': 7200, '_service': None, '_cluster_spec': ClusterSpec({}), '_task_type': 'worker', '_task_id': 0, '_global_id_in_cluster': 0, '_master': '', '_evaluation_master': '', '_is_chief': True, '_num_ps_replicas': 0, '_num_worker_replicas': 1}\n"
          ],
          "name": "stdout"
        }
      ]
    },
    {
      "cell_type": "code",
      "metadata": {
        "id": "yqyNhU5IP5Zn",
        "colab_type": "code",
        "outputId": "15926618-21d0-4958-b5ee-6491cce9e949",
        "colab": {
          "base_uri": "https://localhost:8080/",
          "height": 1000
        }
      },
      "source": [
        "classifier.train(\n",
        "    input_fn = lambda: input_fn(train,train_y,training=True),\n",
        "    steps = 5000\n",
        ")"
      ],
      "execution_count": 0,
      "outputs": [
        {
          "output_type": "stream",
          "text": [
            "WARNING:tensorflow:From /tensorflow-2.1.0/python3.6/tensorflow_core/python/ops/resource_variable_ops.py:1635: calling BaseResourceVariable.__init__ (from tensorflow.python.ops.resource_variable_ops) with constraint is deprecated and will be removed in a future version.\n",
            "Instructions for updating:\n",
            "If using Keras pass *_constraint arguments to layers.\n",
            "WARNING:tensorflow:From /tensorflow-2.1.0/python3.6/tensorflow_core/python/training/training_util.py:236: Variable.initialized_value (from tensorflow.python.ops.variables) is deprecated and will be removed in a future version.\n",
            "Instructions for updating:\n",
            "Use Variable.read_value. Variables in 2.X are initialized automatically both in eager and graph (inside tf.defun) contexts.\n",
            "INFO:tensorflow:Calling model_fn.\n",
            "WARNING:tensorflow:Layer dnn is casting an input tensor from dtype float64 to the layer's dtype of float32, which is new behavior in TensorFlow 2.  The layer has dtype float32 because it's dtype defaults to floatx.\n",
            "\n",
            "If you intended to run this layer in float32, you can safely ignore this warning. If in doubt, this warning is likely only an issue if you are porting a TensorFlow 1.X model to TensorFlow 2.\n",
            "\n",
            "To change all layers to have dtype float64 by default, call `tf.keras.backend.set_floatx('float64')`. To change just this layer, pass dtype='float64' to the layer constructor. If you are the author of this layer, you can disable autocasting by passing autocast=False to the base Layer constructor.\n",
            "\n",
            "WARNING:tensorflow:From /tensorflow-2.1.0/python3.6/tensorflow_core/python/keras/optimizer_v2/adagrad.py:103: calling Constant.__init__ (from tensorflow.python.ops.init_ops) with dtype is deprecated and will be removed in a future version.\n",
            "Instructions for updating:\n",
            "Call initializer instance with the dtype argument instead of passing it to the constructor\n",
            "INFO:tensorflow:Done calling model_fn.\n",
            "INFO:tensorflow:Create CheckpointSaverHook.\n",
            "INFO:tensorflow:Graph was finalized.\n",
            "INFO:tensorflow:Running local_init_op.\n",
            "INFO:tensorflow:Done running local_init_op.\n",
            "INFO:tensorflow:Saving checkpoints for 0 into /tmp/tmp7s2t3n8m/model.ckpt.\n",
            "INFO:tensorflow:loss = 1.857604, step = 0\n",
            "INFO:tensorflow:global_step/sec: 364.593\n",
            "INFO:tensorflow:loss = 1.4467187, step = 100 (0.276 sec)\n",
            "INFO:tensorflow:global_step/sec: 485.898\n",
            "INFO:tensorflow:loss = 1.2793735, step = 200 (0.209 sec)\n",
            "INFO:tensorflow:global_step/sec: 491.16\n",
            "INFO:tensorflow:loss = 1.1655458, step = 300 (0.204 sec)\n",
            "INFO:tensorflow:global_step/sec: 448.071\n",
            "INFO:tensorflow:loss = 1.0976772, step = 400 (0.224 sec)\n",
            "INFO:tensorflow:global_step/sec: 494.124\n",
            "INFO:tensorflow:loss = 1.0657437, step = 500 (0.199 sec)\n",
            "INFO:tensorflow:global_step/sec: 510.831\n",
            "INFO:tensorflow:loss = 1.0198717, step = 600 (0.199 sec)\n",
            "INFO:tensorflow:global_step/sec: 488.906\n",
            "INFO:tensorflow:loss = 1.0089056, step = 700 (0.201 sec)\n",
            "INFO:tensorflow:global_step/sec: 488.599\n",
            "INFO:tensorflow:loss = 0.9611747, step = 800 (0.205 sec)\n",
            "INFO:tensorflow:global_step/sec: 479.779\n",
            "INFO:tensorflow:loss = 0.9256344, step = 900 (0.209 sec)\n",
            "INFO:tensorflow:global_step/sec: 486.811\n",
            "INFO:tensorflow:loss = 0.9171269, step = 1000 (0.208 sec)\n",
            "INFO:tensorflow:global_step/sec: 512.394\n",
            "INFO:tensorflow:loss = 0.88506776, step = 1100 (0.195 sec)\n",
            "INFO:tensorflow:global_step/sec: 468.576\n",
            "INFO:tensorflow:loss = 0.8598292, step = 1200 (0.210 sec)\n",
            "INFO:tensorflow:global_step/sec: 421.64\n",
            "INFO:tensorflow:loss = 0.84976125, step = 1300 (0.240 sec)\n",
            "INFO:tensorflow:global_step/sec: 431.211\n",
            "INFO:tensorflow:loss = 0.8127633, step = 1400 (0.229 sec)\n",
            "INFO:tensorflow:global_step/sec: 517.028\n",
            "INFO:tensorflow:loss = 0.8064089, step = 1500 (0.196 sec)\n",
            "INFO:tensorflow:global_step/sec: 507.186\n",
            "INFO:tensorflow:loss = 0.7902632, step = 1600 (0.198 sec)\n",
            "INFO:tensorflow:global_step/sec: 508.692\n",
            "INFO:tensorflow:loss = 0.78622127, step = 1700 (0.197 sec)\n",
            "INFO:tensorflow:global_step/sec: 472.853\n",
            "INFO:tensorflow:loss = 0.77461123, step = 1800 (0.211 sec)\n",
            "INFO:tensorflow:global_step/sec: 497.383\n",
            "INFO:tensorflow:loss = 0.76600474, step = 1900 (0.201 sec)\n",
            "INFO:tensorflow:global_step/sec: 519.467\n",
            "INFO:tensorflow:loss = 0.76655674, step = 2000 (0.193 sec)\n",
            "INFO:tensorflow:global_step/sec: 496.1\n",
            "INFO:tensorflow:loss = 0.7522641, step = 2100 (0.201 sec)\n",
            "INFO:tensorflow:global_step/sec: 485.139\n",
            "INFO:tensorflow:loss = 0.7573778, step = 2200 (0.207 sec)\n",
            "INFO:tensorflow:global_step/sec: 483.436\n",
            "INFO:tensorflow:loss = 0.74683297, step = 2300 (0.207 sec)\n",
            "INFO:tensorflow:global_step/sec: 492.864\n",
            "INFO:tensorflow:loss = 0.74050933, step = 2400 (0.203 sec)\n",
            "INFO:tensorflow:global_step/sec: 477.903\n",
            "INFO:tensorflow:loss = 0.72865313, step = 2500 (0.209 sec)\n",
            "INFO:tensorflow:global_step/sec: 480.404\n",
            "INFO:tensorflow:loss = 0.7364827, step = 2600 (0.204 sec)\n",
            "INFO:tensorflow:global_step/sec: 544.557\n",
            "INFO:tensorflow:loss = 0.7241696, step = 2700 (0.184 sec)\n",
            "INFO:tensorflow:global_step/sec: 488.37\n",
            "INFO:tensorflow:loss = 0.71526504, step = 2800 (0.205 sec)\n",
            "INFO:tensorflow:global_step/sec: 498.366\n",
            "INFO:tensorflow:loss = 0.70454925, step = 2900 (0.207 sec)\n",
            "INFO:tensorflow:global_step/sec: 472.18\n",
            "INFO:tensorflow:loss = 0.7118234, step = 3000 (0.206 sec)\n",
            "INFO:tensorflow:global_step/sec: 496.141\n",
            "INFO:tensorflow:loss = 0.69602823, step = 3100 (0.204 sec)\n",
            "INFO:tensorflow:global_step/sec: 508.576\n",
            "INFO:tensorflow:loss = 0.69894826, step = 3200 (0.197 sec)\n",
            "INFO:tensorflow:global_step/sec: 478.102\n",
            "INFO:tensorflow:loss = 0.6914931, step = 3300 (0.212 sec)\n",
            "INFO:tensorflow:global_step/sec: 493.384\n",
            "INFO:tensorflow:loss = 0.6810566, step = 3400 (0.198 sec)\n",
            "INFO:tensorflow:global_step/sec: 490.723\n",
            "INFO:tensorflow:loss = 0.6888025, step = 3500 (0.202 sec)\n",
            "INFO:tensorflow:global_step/sec: 483.905\n",
            "INFO:tensorflow:loss = 0.678603, step = 3600 (0.206 sec)\n",
            "INFO:tensorflow:global_step/sec: 531.544\n",
            "INFO:tensorflow:loss = 0.6635972, step = 3700 (0.191 sec)\n",
            "INFO:tensorflow:global_step/sec: 503.613\n",
            "INFO:tensorflow:loss = 0.66876876, step = 3800 (0.196 sec)\n",
            "INFO:tensorflow:global_step/sec: 478.367\n",
            "INFO:tensorflow:loss = 0.6608979, step = 3900 (0.212 sec)\n",
            "INFO:tensorflow:global_step/sec: 490.009\n",
            "INFO:tensorflow:loss = 0.6694134, step = 4000 (0.204 sec)\n",
            "INFO:tensorflow:global_step/sec: 476.201\n",
            "INFO:tensorflow:loss = 0.6550758, step = 4100 (0.211 sec)\n",
            "INFO:tensorflow:global_step/sec: 479.142\n",
            "INFO:tensorflow:loss = 0.6450894, step = 4200 (0.205 sec)\n",
            "INFO:tensorflow:global_step/sec: 493.943\n",
            "INFO:tensorflow:loss = 0.65371186, step = 4300 (0.203 sec)\n",
            "INFO:tensorflow:global_step/sec: 497.318\n",
            "INFO:tensorflow:loss = 0.636142, step = 4400 (0.206 sec)\n",
            "INFO:tensorflow:global_step/sec: 478.824\n",
            "INFO:tensorflow:loss = 0.63691235, step = 4500 (0.203 sec)\n",
            "INFO:tensorflow:global_step/sec: 487.247\n",
            "INFO:tensorflow:loss = 0.63844573, step = 4600 (0.209 sec)\n",
            "INFO:tensorflow:global_step/sec: 443.728\n",
            "INFO:tensorflow:loss = 0.6303685, step = 4700 (0.222 sec)\n",
            "INFO:tensorflow:global_step/sec: 498.68\n",
            "INFO:tensorflow:loss = 0.622638, step = 4800 (0.204 sec)\n",
            "INFO:tensorflow:global_step/sec: 453.619\n",
            "INFO:tensorflow:loss = 0.61869454, step = 4900 (0.217 sec)\n",
            "INFO:tensorflow:Saving checkpoints for 5000 into /tmp/tmp7s2t3n8m/model.ckpt.\n",
            "INFO:tensorflow:Loss for final step: 0.61627656.\n"
          ],
          "name": "stdout"
        },
        {
          "output_type": "execute_result",
          "data": {
            "text/plain": [
              "<tensorflow_estimator.python.estimator.canned.dnn.DNNClassifierV2 at 0x7f9ac0be6f28>"
            ]
          },
          "metadata": {
            "tags": []
          },
          "execution_count": 12
        }
      ]
    },
    {
      "cell_type": "code",
      "metadata": {
        "id": "uVhnEQm4RxP8",
        "colab_type": "code",
        "outputId": "368388b8-4556-4f9f-fd50-678dcf8a2ca5",
        "colab": {
          "base_uri": "https://localhost:8080/",
          "height": 402
        }
      },
      "source": [
        "classifier.evaluate(\n",
        "    input_fn = lambda: input_fn(test,test_y,training=False),\n",
        ")"
      ],
      "execution_count": 0,
      "outputs": [
        {
          "output_type": "stream",
          "text": [
            "INFO:tensorflow:Calling model_fn.\n",
            "WARNING:tensorflow:Layer dnn is casting an input tensor from dtype float64 to the layer's dtype of float32, which is new behavior in TensorFlow 2.  The layer has dtype float32 because it's dtype defaults to floatx.\n",
            "\n",
            "If you intended to run this layer in float32, you can safely ignore this warning. If in doubt, this warning is likely only an issue if you are porting a TensorFlow 1.X model to TensorFlow 2.\n",
            "\n",
            "To change all layers to have dtype float64 by default, call `tf.keras.backend.set_floatx('float64')`. To change just this layer, pass dtype='float64' to the layer constructor. If you are the author of this layer, you can disable autocasting by passing autocast=False to the base Layer constructor.\n",
            "\n",
            "INFO:tensorflow:Done calling model_fn.\n",
            "INFO:tensorflow:Starting evaluation at 2020-03-16T12:22:11Z\n",
            "INFO:tensorflow:Graph was finalized.\n",
            "INFO:tensorflow:Restoring parameters from /tmp/tmp7s2t3n8m/model.ckpt-5000\n",
            "INFO:tensorflow:Running local_init_op.\n",
            "INFO:tensorflow:Done running local_init_op.\n",
            "INFO:tensorflow:Inference Time : 0.28440s\n",
            "INFO:tensorflow:Finished evaluation at 2020-03-16-12:22:11\n",
            "INFO:tensorflow:Saving dict for global step 5000: accuracy = 0.73333335, average_loss = 0.65867424, global_step = 5000, loss = 0.65867424\n",
            "INFO:tensorflow:Saving 'checkpoint_path' summary for global step 5000: /tmp/tmp7s2t3n8m/model.ckpt-5000\n"
          ],
          "name": "stdout"
        },
        {
          "output_type": "execute_result",
          "data": {
            "text/plain": [
              "{'accuracy': 0.73333335,\n",
              " 'average_loss': 0.65867424,\n",
              " 'global_step': 5000,\n",
              " 'loss': 0.65867424}"
            ]
          },
          "metadata": {
            "tags": []
          },
          "execution_count": 13
        }
      ]
    },
    {
      "cell_type": "code",
      "metadata": {
        "id": "oS7RORrvSM7X",
        "colab_type": "code",
        "colab": {}
      },
      "source": [
        "eva_result = classifier.evaluate(\n",
        "    input_fn = lambda: input_fn(test,test_y,training=False),\n",
        ")\n",
        "print(f\"\\nTest accuracy is : {eva_result['accuracy']}\")"
      ],
      "execution_count": 0,
      "outputs": []
    },
    {
      "cell_type": "code",
      "metadata": {
        "id": "DFy0s1DpUf0B",
        "colab_type": "code",
        "outputId": "bee95100-1b03-4dca-b2f1-645a5fc72523",
        "colab": {
          "base_uri": "https://localhost:8080/",
          "height": 243
        }
      },
      "source": [
        "def input_func(features,batch_size=256):\n",
        "  return tf.data.Dataset.from_tensor_slices(dict(features)).batch(batch_size)\n",
        "\n",
        "features = ['SepalLength','SepalWidth','PetalLength','PetalWidth']\n",
        "predict = {}\n",
        "print(\"Enter numeric values as promptes :\\n\")\n",
        "\n",
        "for feature in features:\n",
        "  valid = True\n",
        "  while valid:\n",
        "    val = input(feature +\": \")\n",
        "    if not val.isdigit(): valid = False\n",
        "  predict[feature] = [float(val)] \n",
        "  predictions = classifier.predict(input_fn=lambda: input_func(predict))\n",
        "for pred_dict in predictions:\n",
        "  class_id = pred_dict['class_ids'][0]\n",
        "  probability = pred_dict['probabilities'][class_id]\n",
        "\n",
        "  print(f\"The species is : {SPECIES[class_id]} ({probability*100:0.2f})%\")"
      ],
      "execution_count": 0,
      "outputs": [
        {
          "output_type": "stream",
          "text": [
            "Enter numeric values as promptes :\n",
            "\n",
            "SepalLength: 3.8\n",
            "SepalWidth: 5.6\n",
            "PetalLength: 7.8\n",
            "PetalWidth: 8.1\n",
            "INFO:tensorflow:Calling model_fn.\n",
            "INFO:tensorflow:Done calling model_fn.\n",
            "INFO:tensorflow:Graph was finalized.\n",
            "INFO:tensorflow:Restoring parameters from /tmp/tmp7s2t3n8m/model.ckpt-5000\n",
            "INFO:tensorflow:Running local_init_op.\n",
            "INFO:tensorflow:Done running local_init_op.\n",
            "The species is : Virginica (95.13)%\n"
          ],
          "name": "stdout"
        }
      ]
    }
  ]
}