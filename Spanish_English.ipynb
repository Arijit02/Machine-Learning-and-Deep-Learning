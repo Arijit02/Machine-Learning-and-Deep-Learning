{
  "nbformat": 4,
  "nbformat_minor": 0,
  "metadata": {
    "colab": {
      "name": "Spanish-English.ipynb",
      "provenance": [],
      "collapsed_sections": [],
      "authorship_tag": "ABX9TyP2hh3iFhKmsvVKDXUijz4A",
      "include_colab_link": true
    },
    "kernelspec": {
      "name": "python3",
      "display_name": "Python 3"
    },
    "accelerator": "GPU"
  },
  "cells": [
    {
      "cell_type": "markdown",
      "metadata": {
        "id": "view-in-github",
        "colab_type": "text"
      },
      "source": [
        "<a href=\"https://colab.research.google.com/github/Arijit02/Machine-Learning-and-Deep-Learning/blob/master/Spanish_English.ipynb\" target=\"_parent\"><img src=\"https://colab.research.google.com/assets/colab-badge.svg\" alt=\"Open In Colab\"/></a>"
      ]
    },
    {
      "cell_type": "code",
      "metadata": {
        "id": "_DPo2DX2Bdoc",
        "colab_type": "code",
        "colab": {
          "base_uri": "https://localhost:8080/",
          "height": 52
        },
        "outputId": "7ef5d069-b138-486f-f1f7-dadee5f5d1eb"
      },
      "source": [
        "%tensorflow_version 1.x\n",
        "import tensorflow as tf\n",
        "import numpy as np\n",
        "import keras\n",
        "from keras.models import Model\n",
        "from keras.layers import Embedding, GRU, Dense, Input\n",
        "from keras.optimizers import RMSprop\n",
        "from keras.callbacks import EarlyStopping, ModelCheckpoint, TensorBoard\n",
        "from keras.preprocessing.text import Tokenizer\n",
        "from keras.preprocessing.sequence import pad_sequences\n",
        "from os import path\n",
        "from google.colab import files"
      ],
      "execution_count": 1,
      "outputs": [
        {
          "output_type": "stream",
          "text": [
            "TensorFlow 1.x selected.\n"
          ],
          "name": "stdout"
        },
        {
          "output_type": "stream",
          "text": [
            "Using TensorFlow backend.\n"
          ],
          "name": "stderr"
        }
      ]
    },
    {
      "cell_type": "code",
      "metadata": {
        "id": "YTZFwplVXI_O",
        "colab_type": "code",
        "colab": {
          "base_uri": "https://localhost:8080/",
          "height": 34
        },
        "outputId": "b66f48cc-7177-4626-e5fd-a63d3c250ce0"
      },
      "source": [
        "print(tf.__version__)"
      ],
      "execution_count": 2,
      "outputs": [
        {
          "output_type": "stream",
          "text": [
            "1.15.2\n"
          ],
          "name": "stdout"
        }
      ]
    },
    {
      "cell_type": "code",
      "metadata": {
        "id": "JLB-SHLiBmU2",
        "colab_type": "code",
        "colab": {
          "resources": {
            "http://localhost:8080/nbextensions/google.colab/files.js": {
              "data": "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",
              "ok": true,
              "headers": [
                [
                  "content-type",
                  "application/javascript"
                ]
              ],
              "status": 200,
              "status_text": ""
            }
          },
          "base_uri": "https://localhost:8080/",
          "height": 130
        },
        "outputId": "f4ac9793-9d59-43a1-db73-7b48ded2d184"
      },
      "source": [
        "# Loading Data #\n",
        "srcLangPath = list(files.upload().keys())[0]\n",
        "destLangPath = list(files.upload().keys())[0]"
      ],
      "execution_count": 3,
      "outputs": [
        {
          "output_type": "display_data",
          "data": {
            "text/html": [
              "\n",
              "     <input type=\"file\" id=\"files-60757860-7de8-4636-a68d-7dee8cb11e99\" name=\"files[]\" multiple disabled\n",
              "        style=\"border:none\" />\n",
              "     <output id=\"result-60757860-7de8-4636-a68d-7dee8cb11e99\">\n",
              "      Upload widget is only available when the cell has been executed in the\n",
              "      current browser session. Please rerun this cell to enable.\n",
              "      </output>\n",
              "      <script src=\"/nbextensions/google.colab/files.js\"></script> "
            ],
            "text/plain": [
              "<IPython.core.display.HTML object>"
            ]
          },
          "metadata": {
            "tags": []
          }
        },
        {
          "output_type": "stream",
          "text": [
            "Saving spanish.txt to spanish.txt\n"
          ],
          "name": "stdout"
        },
        {
          "output_type": "display_data",
          "data": {
            "text/html": [
              "\n",
              "     <input type=\"file\" id=\"files-1fa75369-d65e-4a79-916c-66e4a9da0d5b\" name=\"files[]\" multiple disabled\n",
              "        style=\"border:none\" />\n",
              "     <output id=\"result-1fa75369-d65e-4a79-916c-66e4a9da0d5b\">\n",
              "      Upload widget is only available when the cell has been executed in the\n",
              "      current browser session. Please rerun this cell to enable.\n",
              "      </output>\n",
              "      <script src=\"/nbextensions/google.colab/files.js\"></script> "
            ],
            "text/plain": [
              "<IPython.core.display.HTML object>"
            ]
          },
          "metadata": {
            "tags": []
          }
        },
        {
          "output_type": "stream",
          "text": [
            "Saving english.txt to english.txt\n"
          ],
          "name": "stdout"
        }
      ]
    },
    {
      "cell_type": "code",
      "metadata": {
        "id": "IP1SZjLSBqmq",
        "colab_type": "code",
        "colab": {}
      },
      "source": [
        "mark_start = 'ssss'\n",
        "mark_end = 'eeee'\n",
        "\n",
        "def load_data(path, start=\"\", end=\"\"):\n",
        "    with open(path, encoding=\"utf-8\") as file:\n",
        "        texts = [start + line.strip() + end for line in file]\n",
        "\n",
        "    return texts\n",
        "\n",
        "\n",
        "data_src = load_data(srcLangPath)\n",
        "data_dest = load_data(destLangPath, mark_start, mark_end)"
      ],
      "execution_count": 4,
      "outputs": []
    },
    {
      "cell_type": "code",
      "metadata": {
        "id": "sJJY-l-RClR5",
        "colab_type": "code",
        "colab": {}
      },
      "source": [
        "# Tokenizer #\n",
        "num_words = 10000\n",
        "\n",
        "class TokenizerWrap(Tokenizer):\n",
        "    def __init__(self, texts, padding, reverse=False, num_words=None):\n",
        "        Tokenizer.__init__(self, num_words=num_words)\n",
        "        self.fit_on_texts(texts)\n",
        "        self.index_to_word = dict(zip(self.word_index.values(),\n",
        "                                      self.word_index.keys()))\n",
        "        self.tokens = self.texts_to_sequences(texts)\n",
        "\n",
        "        if reverse:\n",
        "            self.tokens = [list(reversed(x)) for x in self.tokens]\n",
        "            truncating = 'pre'\n",
        "        else:\n",
        "            truncating = 'post'\n",
        "\n",
        "        self.num_tokens = [len(x) for x in self.tokens]\n",
        "        self.max_tokens = np.mean(self.num_tokens) + \\\n",
        "            2 * np.std(self.num_tokens)\n",
        "        self.max_tokens = int(self.max_tokens)\n",
        "        self.tokens_padded = pad_sequences(\n",
        "            self.tokens, maxlen=self.max_tokens, padding=padding, truncating=truncating)\n",
        "\n",
        "    def token_to_words(self, token):\n",
        "        word = \" \" if token == 0 else self.index_to_word[token]\n",
        "        return word\n",
        "\n",
        "    def tokens_to_text(self, tokens):\n",
        "        words = [self.index_to_word(token) for token in tokens if token != 0]\n",
        "        text = \" \".join(words)\n",
        "        return text\n",
        "\n",
        "    def text_to_tokens(self, text, reverse=False, padding=False):\n",
        "        tokens = self.texts_to_sequences([text])\n",
        "        tokens = np.array(tokens)\n",
        "\n",
        "        if reverse:\n",
        "            tokens = np.flip(tokens, axis=1)\n",
        "            truncating = 'pre'\n",
        "        else:\n",
        "            truncating = 'post'\n",
        "\n",
        "        tokens = pad_sequences(\n",
        "            tokens, maxlen=self.max_tokens, padding='pre', truncating=truncating)\n",
        "\n",
        "        return tokens"
      ],
      "execution_count": 5,
      "outputs": []
    },
    {
      "cell_type": "code",
      "metadata": {
        "id": "Xeyf0an2Cx5X",
        "colab_type": "code",
        "colab": {}
      },
      "source": [
        "tokenizer_src = TokenizerWrap(\n",
        "    texts=data_src, padding='pre', reverse=True, num_words=num_words)\n",
        "\n",
        "tokenizer_dest = TokenizerWrap(\n",
        "    texts=data_dest, padding='post', reverse=False, num_words=num_words)\n",
        "\n",
        "tokens_src = tokenizer_src.tokens_padded\n",
        "tokens_dest = tokenizer_dest.tokens_padded"
      ],
      "execution_count": 6,
      "outputs": []
    },
    {
      "cell_type": "code",
      "metadata": {
        "id": "a1IEMBJjC4fT",
        "colab_type": "code",
        "colab": {
          "base_uri": "https://localhost:8080/",
          "height": 52
        },
        "outputId": "d482fcbe-099b-4eac-d9d4-42f91add66ac"
      },
      "source": [
        "print(tokens_src.shape, tokenizer_src.max_tokens)\n",
        "print(tokens_dest.shape, tokenizer_dest.max_tokens)"
      ],
      "execution_count": 7,
      "outputs": [
        {
          "output_type": "stream",
          "text": [
            "(10999, 59) 59\n",
            "(10999, 57) 57\n"
          ],
          "name": "stdout"
        }
      ]
    },
    {
      "cell_type": "code",
      "metadata": {
        "id": "KX3o1YV-C9yp",
        "colab_type": "code",
        "colab": {
          "base_uri": "https://localhost:8080/",
          "height": 34
        },
        "outputId": "3f09adf2-ebf2-4db9-8055-8b8cb4358cae"
      },
      "source": [
        "token_start = tokenizer_dest.word_index[mark_start.strip()]\n",
        "token_end = tokenizer_dest.word_index[mark_end.strip()]\n",
        "print(token_start, token_end)"
      ],
      "execution_count": 8,
      "outputs": [
        {
          "output_type": "stream",
          "text": [
            "204 2\n"
          ],
          "name": "stdout"
        }
      ]
    },
    {
      "cell_type": "code",
      "metadata": {
        "id": "4ERBN3rxDFup",
        "colab_type": "code",
        "colab": {}
      },
      "source": [
        "# Training Data #\n",
        "encoder_input_data = tokens_src\n",
        "\n",
        "decoder_input_data = tokens_dest[:, :-1]\n",
        "decoder_output_data = tokens_dest[:, 1:]"
      ],
      "execution_count": 9,
      "outputs": []
    },
    {
      "cell_type": "code",
      "metadata": {
        "id": "HOopw5u6OINW",
        "colab_type": "code",
        "colab": {}
      },
      "source": [
        "idx = 2"
      ],
      "execution_count": 10,
      "outputs": []
    },
    {
      "cell_type": "code",
      "metadata": {
        "id": "382iUlAmONR3",
        "colab_type": "code",
        "colab": {
          "base_uri": "https://localhost:8080/",
          "height": 122
        },
        "outputId": "a800883d-17db-40c1-a07a-4bd01184b982"
      },
      "source": [
        "decoder_input_data[idx]"
      ],
      "execution_count": 11,
      "outputs": [
        {
          "output_type": "execute_result",
          "data": {
            "text/plain": [
              "array([1009,   21,   37,   23,   18,  673,    1, 7324, 7325, 7326, 1862,\n",
              "          4, 5722,  185,    1,   98,    6,    9,  259,    3,  119, 1943,\n",
              "          9, 1703,    3, 1224,  972,    8, 1339,  113, 4725,    2,    0,\n",
              "          0,    0,    0,    0,    0,    0,    0,    0,    0,    0,    0,\n",
              "          0,    0,    0,    0,    0,    0,    0,    0,    0,    0,    0,\n",
              "          0], dtype=int32)"
            ]
          },
          "metadata": {
            "tags": []
          },
          "execution_count": 11
        }
      ]
    },
    {
      "cell_type": "code",
      "metadata": {
        "id": "SpzRGPMzOSn6",
        "colab_type": "code",
        "colab": {
          "base_uri": "https://localhost:8080/",
          "height": 122
        },
        "outputId": "4a7ad0f6-8d3e-4287-b6b9-54e3d74d7234"
      },
      "source": [
        "decoder_output_data[idx+1]"
      ],
      "execution_count": 12,
      "outputs": [
        {
          "output_type": "execute_result",
          "data": {
            "text/plain": [
              "array([  18, 1438,    9,  124,   14,   11,  340,    6,    1,  171,    3,\n",
              "          1,  276,  269,  973,  375,   11,  215, 1223,    2,    0,    0,\n",
              "          0,    0,    0,    0,    0,    0,    0,    0,    0,    0,    0,\n",
              "          0,    0,    0,    0,    0,    0,    0,    0,    0,    0,    0,\n",
              "          0,    0,    0,    0,    0,    0,    0,    0,    0,    0,    0,\n",
              "          0], dtype=int32)"
            ]
          },
          "metadata": {
            "tags": []
          },
          "execution_count": 12
        }
      ]
    },
    {
      "cell_type": "code",
      "metadata": {
        "id": "FGpewmtoDN4o",
        "colab_type": "code",
        "colab": {
          "base_uri": "https://localhost:8080/",
          "height": 90
        },
        "outputId": "452a3826-d7ca-4895-edba-282025ac0f0d"
      },
      "source": [
        "# Creating Neural Network #\n",
        "\n",
        "# Creating Encoder\n",
        "encoder_input = Input(shape=(None, ), name='encoder_input')\n",
        "\n",
        "embedding_size = 128\n",
        "encoder_embedding = Embedding(\n",
        "    input_dim=num_words, output_dim=embedding_size, name='encoder_embedding')\n",
        "\n",
        "state_size = 512\n",
        "encoder_gru1 = GRU(state_size, name='encoder_gru1', return_sequences=True)\n",
        "encoder_gru2 = GRU(state_size, name='encoder_gru2', return_sequences=True)\n",
        "encoder_gru3 = GRU(state_size, name='encoder_gru3', return_sequences=False)\n",
        "\n",
        "\n",
        "def connect_encoder():\n",
        "    net = encoder_input\n",
        "    net = encoder_embedding(net)\n",
        "    net = encoder_gru1(net)\n",
        "    net = encoder_gru2(net)\n",
        "    net = encoder_gru3(net)\n",
        "    encoder_output = net\n",
        "\n",
        "    return net\n",
        "\n",
        "\n",
        "encoder_output = connect_encoder()"
      ],
      "execution_count": 13,
      "outputs": [
        {
          "output_type": "stream",
          "text": [
            "WARNING:tensorflow:From /tensorflow-1.15.2/python3.6/tensorflow_core/python/ops/resource_variable_ops.py:1630: calling BaseResourceVariable.__init__ (from tensorflow.python.ops.resource_variable_ops) with constraint is deprecated and will be removed in a future version.\n",
            "Instructions for updating:\n",
            "If using Keras pass *_constraint arguments to layers.\n"
          ],
          "name": "stdout"
        }
      ]
    },
    {
      "cell_type": "code",
      "metadata": {
        "id": "FQjqrqsFDbXR",
        "colab_type": "code",
        "colab": {}
      },
      "source": [
        "# Creating Decoder\n",
        "decoder_initial_state = Input(\n",
        "    shape=(state_size, ), name='decoder_initial_state')\n",
        "\n",
        "decoder_input = Input(shape=(None, ), name='decoder_input')\n",
        "\n",
        "decoder_embedding = Embedding(\n",
        "    input_dim=num_words, output_dim=embedding_size, name='decoder_embedding')\n",
        "\n",
        "\n",
        "decoder_gru1 = GRU(state_size, name='decoder_gru1', return_sequences=True)\n",
        "decoder_gru2 = GRU(state_size, name='decoder_gru2', return_sequences=True)\n",
        "decoder_gru3 = GRU(state_size, name='decoder_gru3', return_sequences=True)\n",
        "\n",
        "decoder_dense = Dense(num_words, activation='linear', name='decoder_output')\n",
        "\n",
        "\n",
        "def connect_decoder(initial_state):\n",
        "    net = decoder_input\n",
        "    net = decoder_embedding(net)\n",
        "    net = decoder_gru1(net, initial_state=initial_state)\n",
        "    net = decoder_gru2(net, initial_state=initial_state)\n",
        "    net = decoder_gru3(net, initial_state=initial_state)\n",
        "    decoder_output = decoder_dense(net)\n",
        "\n",
        "    return decoder_output"
      ],
      "execution_count": 14,
      "outputs": []
    },
    {
      "cell_type": "code",
      "metadata": {
        "id": "8NLy5ol5Dkby",
        "colab_type": "code",
        "colab": {}
      },
      "source": [
        "# Connect And Create The Models #\n",
        "decoder_output = connect_decoder(initial_state=encoder_output)\n",
        "model_train = Model(\n",
        "    inputs=[encoder_input, decoder_input], outputs=[decoder_output])\n",
        "\n",
        "model_encoder = Model(inputs=[encoder_input], outputs=[encoder_output])\n",
        "\n",
        "decoder_output = connect_decoder(initial_state=decoder_initial_state)\n",
        "model_decoder = Model(\n",
        "    inputs=[decoder_input, decoder_initial_state], outputs=[decoder_output])"
      ],
      "execution_count": 15,
      "outputs": []
    },
    {
      "cell_type": "code",
      "metadata": {
        "id": "I_OsItJsGO_9",
        "colab_type": "code",
        "colab": {
          "base_uri": "https://localhost:8080/",
          "height": 598
        },
        "outputId": "286f48d0-552c-4577-bec8-46a8fc0b4a6b"
      },
      "source": [
        "model_train.summary()"
      ],
      "execution_count": 16,
      "outputs": [
        {
          "output_type": "stream",
          "text": [
            "Model: \"model_1\"\n",
            "__________________________________________________________________________________________________\n",
            "Layer (type)                    Output Shape         Param #     Connected to                     \n",
            "==================================================================================================\n",
            "encoder_input (InputLayer)      (None, None)         0                                            \n",
            "__________________________________________________________________________________________________\n",
            "encoder_embedding (Embedding)   (None, None, 128)    1280000     encoder_input[0][0]              \n",
            "__________________________________________________________________________________________________\n",
            "encoder_gru1 (GRU)              (None, None, 512)    984576      encoder_embedding[0][0]          \n",
            "__________________________________________________________________________________________________\n",
            "decoder_input (InputLayer)      (None, None)         0                                            \n",
            "__________________________________________________________________________________________________\n",
            "encoder_gru2 (GRU)              (None, None, 512)    1574400     encoder_gru1[0][0]               \n",
            "__________________________________________________________________________________________________\n",
            "decoder_embedding (Embedding)   (None, None, 128)    1280000     decoder_input[0][0]              \n",
            "__________________________________________________________________________________________________\n",
            "encoder_gru3 (GRU)              (None, 512)          1574400     encoder_gru2[0][0]               \n",
            "__________________________________________________________________________________________________\n",
            "decoder_gru1 (GRU)              (None, None, 512)    984576      decoder_embedding[0][0]          \n",
            "                                                                 encoder_gru3[0][0]               \n",
            "__________________________________________________________________________________________________\n",
            "decoder_gru2 (GRU)              (None, None, 512)    1574400     decoder_gru1[0][0]               \n",
            "                                                                 encoder_gru3[0][0]               \n",
            "__________________________________________________________________________________________________\n",
            "decoder_gru3 (GRU)              (None, None, 512)    1574400     decoder_gru2[0][0]               \n",
            "                                                                 encoder_gru3[0][0]               \n",
            "__________________________________________________________________________________________________\n",
            "decoder_output (Dense)          (None, None, 10000)  5130000     decoder_gru3[0][0]               \n",
            "==================================================================================================\n",
            "Total params: 15,956,752\n",
            "Trainable params: 15,956,752\n",
            "Non-trainable params: 0\n",
            "__________________________________________________________________________________________________\n"
          ],
          "name": "stdout"
        }
      ]
    },
    {
      "cell_type": "code",
      "metadata": {
        "id": "k1mxoMFrDr4F",
        "colab_type": "code",
        "colab": {}
      },
      "source": [
        "# Compile The Model #\n",
        "'''\n",
        "model_train.compile(optimizer=RMSprop(lr=1e-3),\n",
        "                    loss='sparse_categorical_crossentropy')'''\n",
        "\n",
        "def sparse_cross_entropy(y_true, y_pred):\n",
        "  loss = tf.nn.sparse_softmax_cross_entropy_with_logits(labels=y_true, logits=y_pred)\n",
        "  loss_mean = tf.reduce_mean(loss)\n",
        "\n",
        "  return loss_mean\n",
        "\n",
        "\n",
        "decoder_target = tf.placeholder(dtype='int32', shape=(None, None))\n",
        "model_train.compile(optimizer=RMSprop(lr=1e-3), loss=sparse_cross_entropy, target_tensors=[decoder_target])"
      ],
      "execution_count": 17,
      "outputs": []
    },
    {
      "cell_type": "code",
      "metadata": {
        "id": "ksTp-9m7DzvF",
        "colab_type": "code",
        "colab": {}
      },
      "source": [
        "# Callback Functions #\n",
        "path_checkpoint = '21_checkpoint.keras'\n",
        "callback_checkpoint = ModelCheckpoint(\n",
        "    filepath=path_checkpoint, verbose=1, save_best_only=True, save_weights_only=True)\n",
        "\n",
        "callback_early_stopping = EarlyStopping(patience=3, verbose=1)\n",
        "\n",
        "callback_tensorboard = TensorBoard(log_dir='./21_logs/', write_graph=False)\n",
        "\n",
        "callbacks = [callback_checkpoint,\n",
        "             callback_early_stopping, callback_tensorboard]"
      ],
      "execution_count": 26,
      "outputs": []
    },
    {
      "cell_type": "code",
      "metadata": {
        "id": "J5i2YjToD7hM",
        "colab_type": "code",
        "colab": {}
      },
      "source": [
        "# Load Checkpoint #\n",
        "try:\n",
        "    model_train.load_weights(path_checkpoint)\n",
        "except Exception as error:\n",
        "    print(\"Error trying to load checkpoint\")\n",
        "    print(error)"
      ],
      "execution_count": 32,
      "outputs": []
    },
    {
      "cell_type": "code",
      "metadata": {
        "id": "yjZLbPyOEBeR",
        "colab_type": "code",
        "colab": {
          "base_uri": "https://localhost:8080/",
          "height": 351
        },
        "outputId": "f4ab635c-fc9e-4ae0-be17-25c8d7c6fbad"
      },
      "source": [
        "# Train The Model #\n",
        "\n",
        "x_data = \\\n",
        "    {\n",
        "        'encoder_input': encoder_input_data,\n",
        "        'decoder_input': decoder_input_data\n",
        "    }\n",
        "\n",
        "y_data = \\\n",
        "    {\n",
        "        'decoder_output': decoder_output_data\n",
        "    }\n",
        "\n",
        "validation_split = 1000 / len(encoder_input_data)\n",
        "\n",
        "model_train.fit(x=x_data, y=y_data, epochs=10, batch_size=64,\n",
        "                callbacks=callbacks, validation_split=validation_split)"
      ],
      "execution_count": 42,
      "outputs": [
        {
          "output_type": "stream",
          "text": [
            "Train on 9999 samples, validate on 1000 samples\n",
            "Epoch 1/10\n",
            "9999/9999 [==============================] - 99s 10ms/step - loss: 1.6393 - val_loss: 2.2669\n",
            "\n",
            "Epoch 00001: val_loss did not improve from 2.25424\n",
            "Epoch 2/10\n",
            "9999/9999 [==============================] - 99s 10ms/step - loss: 1.6326 - val_loss: 2.2689\n",
            "\n",
            "Epoch 00002: val_loss did not improve from 2.25424\n",
            "Epoch 3/10\n",
            "9999/9999 [==============================] - 99s 10ms/step - loss: 1.6062 - val_loss: 2.2707\n",
            "\n",
            "Epoch 00003: val_loss did not improve from 2.25424\n",
            "Epoch 4/10\n",
            "9999/9999 [==============================] - 99s 10ms/step - loss: 1.5740 - val_loss: 2.2727\n",
            "\n",
            "Epoch 00004: val_loss did not improve from 2.25424\n",
            "Epoch 00004: early stopping\n"
          ],
          "name": "stdout"
        },
        {
          "output_type": "execute_result",
          "data": {
            "text/plain": [
              "<keras.callbacks.callbacks.History at 0x7f43603c6320>"
            ]
          },
          "metadata": {
            "tags": []
          },
          "execution_count": 42
        }
      ]
    },
    {
      "cell_type": "code",
      "metadata": {
        "id": "EurTHMfilB55",
        "colab_type": "code",
        "colab": {}
      },
      "source": [
        "def translate(input_text, true_output_text=None):\n",
        "  input_tokens = tokenizer_src.text_to_tokens(text=input_text, padding=True, reverse=True)\n",
        "  initial_state = model_encoder.predict(input_tokens)\n",
        "  max_tokens = tokenizer_dest.max_tokens\n",
        "  shape = (1, max_tokens)\n",
        "  decoder_input_data = np.zeros(shape=shape, dtype=np.int)\n",
        "  token_int = token_start\n",
        "  output_text = ''\n",
        "  count_tokens = 0\n",
        "  while token_int != token_end and count_tokens < max_tokens:\n",
        "    decoder_input_data[0, count_tokens] = token_int\n",
        "    x_data = \\\n",
        "      {\n",
        "          'decoder_initial_state' : initial_state,\n",
        "          'decoder_input' : decoder_input_data  \n",
        "      }\n",
        "    decoder_output = model_decoder.predict(x_data)\n",
        "    token_onehot = decoder_output[0, count_tokens, :]\n",
        "    token_int = np.argmax(token_onehot)\n",
        "    sampled_word = tokenizer_dest.token_to_words(token_int)\n",
        "    output_text += ' ' + sampled_word\n",
        "    count_tokens += 1\n",
        "\n",
        "  output_tokens = decoder_input_data[0]\n",
        "\n",
        "  print(\"Input text : \")\n",
        "  print(input_text)\n",
        "  print()\n",
        "\n",
        "  print(\"Output text : \")\n",
        "  print(output_text)\n",
        "  print()\n",
        "\n",
        "  if true_output_text is not None:\n",
        "    print(\"True output text : \")\n",
        "    print(true_output_text)\n",
        "    print()"
      ],
      "execution_count": 43,
      "outputs": []
    },
    {
      "cell_type": "code",
      "metadata": {
        "id": "6RHSQxJIrtvn",
        "colab_type": "code",
        "colab": {
          "base_uri": "https://localhost:8080/",
          "height": 354
        },
        "outputId": "28db13a2-da9a-4c23-c539-9e21d9df91fb"
      },
      "source": [
        "idx = 2111\n",
        "translate(input_text=data_src[idx], true_output_text=data_dest[idx])\n",
        "input_text = 'Es un milagro que se salvaran.'\n",
        "true_output_text = 'It is a miracle that they were saved.'\n",
        "translate(input_text=input_text, true_output_text=true_output_text)"
      ],
      "execution_count": 44,
      "outputs": [
        {
          "output_type": "stream",
          "text": [
            "Input text : \n",
            "Conque vuelta a empezar como hace veinte años con el Amoco, un golpe en la costa septentrional, otro en la costa meridional, otro en la costa occidental.\n",
            "\n",
            "Output text : \n",
            " of the council were not been aware of the fpö of the commission and the fpö of the austrian people' s party and the commission has been aware of the austrian government eeee\n",
            "\n",
            "True output text : \n",
            "ssssSo we are now experiencing the same thing that happened 20 years ago with the Amoco Cadiz; a wreck on the North coast, a wreck on the South coast, a wreck on the West coast.eeee\n",
            "\n",
            "Input text : \n",
            "Es un milagro que se salvaran.\n",
            "\n",
            "Output text : \n",
            " it is not eeee\n",
            "\n",
            "True output text : \n",
            "It is a miracle that they were saved.\n",
            "\n"
          ],
          "name": "stdout"
        }
      ]
    }
  ]
}